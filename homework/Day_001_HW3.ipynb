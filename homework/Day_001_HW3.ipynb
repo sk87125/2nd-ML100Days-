1. 你選的這組資料為何重要
what movies make the most money at the box office? How much does a director matter?

2. 資料從何而來 (tips:如提供者是誰、以什麼方式蒐集)
This competition uses the TMDB API but is not endorsed or certified by TMDB
Data points provided include cast, crew, plot keywords, budget, posters, release dates, languages, production companies, and countries. 

3. 蒐集而來的資料型態為何
非結構化的文字數據

4. 這組資料想解決的問題如何評估
比較票房
